{
 "cells": [
  {
   "cell_type": "code",
   "execution_count": 2,
   "id": "bf4b9fd2",
   "metadata": {},
   "outputs": [],
   "source": [
    "# Import the random module.\n",
    "import random"
   ]
  },
  {
   "cell_type": "code",
   "execution_count": 3,
   "id": "cfdcf745",
   "metadata": {},
   "outputs": [
    {
     "data": {
      "text/plain": [
       "8"
      ]
     },
     "execution_count": 3,
     "metadata": {},
     "output_type": "execute_result"
    }
   ],
   "source": [
    "# random.randint will return a single integer, not a floating point decimal\n",
    "random.randint(-90, 90)"
   ]
  },
  {
   "cell_type": "code",
   "execution_count": 4,
   "id": "0443b246",
   "metadata": {},
   "outputs": [
    {
     "data": {
      "text/plain": [
       "0.8833000311335084"
      ]
     },
     "execution_count": 4,
     "metadata": {},
     "output_type": "execute_result"
    }
   ],
   "source": [
    "# random.random() will give a single floating-point decimal number between 0 and 1.0.\n",
    "random.random()"
   ]
  },
  {
   "cell_type": "code",
   "execution_count": 5,
   "id": "9fbdc0b7",
   "metadata": {},
   "outputs": [
    {
     "data": {
      "text/plain": [
       "2.368961122422994"
      ]
     },
     "execution_count": 5,
     "metadata": {},
     "output_type": "execute_result"
    }
   ],
   "source": [
    "# Combining randint and random will help generate a floating point decimal between -90 and 90\n",
    "random_number = random.randint(-90, 89) + random.random()\n",
    "random_number"
   ]
  },
  {
   "cell_type": "code",
   "execution_count": 6,
   "id": "6be74f4c",
   "metadata": {},
   "outputs": [
    {
     "data": {
      "text/plain": [
       "[29.653583706881573,\n",
       " 73.09132190341795,\n",
       " 59.873152178156225,\n",
       " -8.710759144327906,\n",
       " -75.95153225730611,\n",
       " 37.75459978696829,\n",
       " 66.31287051160565,\n",
       " 83.53680009735118,\n",
       " -16.078972002292446,\n",
       " -29.059055139013186]"
      ]
     },
     "execution_count": 6,
     "metadata": {},
     "output_type": "execute_result"
    }
   ],
   "source": [
    "x = 1\n",
    "latitudes = []\n",
    "while x < 11:\n",
    "    random_lat = random.randint(-90, 89) + random.random()\n",
    "    latitudes.append(random_lat)\n",
    "    x += 1\n",
    "latitudes"
   ]
  },
  {
   "cell_type": "code",
   "execution_count": 7,
   "id": "1615c1f0",
   "metadata": {},
   "outputs": [
    {
     "data": {
      "text/plain": [
       "-63"
      ]
     },
     "execution_count": 7,
     "metadata": {},
     "output_type": "execute_result"
    }
   ],
   "source": [
    "# random.randrange() : Inside the parentheses, we need to add two numbers, a lower and upper limit, separated by a comma.For the randrange() function, there is an option to add a step parameter and set it equal to an integer, which will generate increments of a given integer value, from the lower to the upper limit.\n",
    "random.randrange(-90, 90, step=1)"
   ]
  },
  {
   "cell_type": "code",
   "execution_count": 8,
   "id": "999b84e6",
   "metadata": {},
   "outputs": [
    {
     "data": {
      "text/plain": [
       "84"
      ]
     },
     "execution_count": 8,
     "metadata": {},
     "output_type": "execute_result"
    }
   ],
   "source": [
    "# Difference between each number in the sequence is 3, If you don't add the step parameter, the output will be a number with an increment of 1, which is the default integer value.\n",
    "random.randrange(-90, 90, step=3)"
   ]
  },
  {
   "cell_type": "code",
   "execution_count": 9,
   "id": "cee0ef2c",
   "metadata": {},
   "outputs": [
    {
     "data": {
      "text/plain": [
       "85.19436533654246"
      ]
     },
     "execution_count": 9,
     "metadata": {},
     "output_type": "execute_result"
    }
   ],
   "source": [
    "# uniform() function will allow us to generate a floating-point decimal number between two given numbers inside the parentheses\n",
    "random.uniform(-90, 90)"
   ]
  },
  {
   "cell_type": "code",
   "execution_count": 10,
   "id": "4d664aec",
   "metadata": {},
   "outputs": [],
   "source": [
    "# Import the NumPy module.\n",
    "import numpy as np"
   ]
  },
  {
   "cell_type": "code",
   "execution_count": 11,
   "id": "5608c9eb",
   "metadata": {},
   "outputs": [
    {
     "data": {
      "text/plain": [
       "25.45006118382757"
      ]
     },
     "execution_count": 11,
     "metadata": {},
     "output_type": "execute_result"
    }
   ],
   "source": [
    "# Adding the zeros past the decimal places is optional. When we use the NumPy module with the random.uniform() function, the parenthetical parameters contain a lower boundary (low value) and an upper boundary (high value) that are floating-point decimal numbers\n",
    "np.random.uniform(-90.000, 90.000)\n",
    "\n",
    "# Another option is to write the parameters as np.random.uniform(low=-90, high=90)"
   ]
  },
  {
   "cell_type": "code",
   "execution_count": 12,
   "id": "23b58f0f",
   "metadata": {},
   "outputs": [
    {
     "data": {
      "text/plain": [
       "array([ 54.36945558,  44.0685243 , -60.50827399,  89.039809  ,\n",
       "       -16.05150824,  82.9976338 , -60.74579193,  65.65430234,\n",
       "        58.72942444, -53.87665166, -16.01721621, -62.46043271,\n",
       "        59.50782274,  20.27201142,  71.68138473, -43.64283539,\n",
       "       -74.98463893, -53.0344899 ,  37.03107764, -68.80069702,\n",
       "       -15.52121118, -16.04569262, -14.32331073,  76.56162978,\n",
       "       -29.63099473,  -7.72826921, -17.88975253, -49.16395933,\n",
       "       -30.07393088,  30.11799793,  10.8156371 , -55.15665702,\n",
       "        56.59046655,  40.19261568, -49.6715621 ,   8.63952367,\n",
       "        20.83242439,  34.17631022,  19.99444683,  78.45377108,\n",
       "       -35.00222561,  -8.67574614, -52.90754433, -29.20889249,\n",
       "       -63.26619826, -20.20782466,   4.53918882, -38.47363634,\n",
       "        78.62393454, -10.03906808])"
      ]
     },
     "execution_count": 12,
     "metadata": {},
     "output_type": "execute_result"
    }
   ],
   "source": [
    "np.random.uniform(-90.000, 90.000, size=50)"
   ]
  },
  {
   "cell_type": "code",
   "execution_count": 13,
   "id": "24bc4941",
   "metadata": {},
   "outputs": [],
   "source": [
    "# Import timeit.\n",
    "import timeit"
   ]
  },
  {
   "cell_type": "code",
   "execution_count": 14,
   "id": "95d54572",
   "metadata": {},
   "outputs": [
    {
     "name": "stdout",
     "output_type": "stream",
     "text": [
      "12.2 µs ± 276 ns per loop (mean ± std. dev. of 7 runs, 100000 loops each)\n"
     ]
    }
   ],
   "source": [
    "%timeit np.random.uniform(-90.000, 90.000, size=1500)"
   ]
  },
  {
   "cell_type": "code",
   "execution_count": 15,
   "id": "dacac168",
   "metadata": {},
   "outputs": [
    {
     "name": "stdout",
     "output_type": "stream",
     "text": [
      "1.05 µs ± 17.5 ns per loop (mean ± std. dev. of 7 runs, 1000000 loops each)\n"
     ]
    }
   ],
   "source": [
    "def latitudes (size):\n",
    "    latitudes =[]\n",
    "    x = 0\n",
    "    while x < (size):\n",
    "        random_lat = random.randint(-90, 90) + random.random()\n",
    "        latitudes.append(random_lat)\n",
    "        x += 1\n",
    "        return latitudes\n",
    "# Call the function with 1500.\n",
    "%timeit latitudes(1500)"
   ]
  }
 ],
 "metadata": {
  "kernelspec": {
   "display_name": "PythonData",
   "language": "python",
   "name": "pythondata"
  },
  "language_info": {
   "codemirror_mode": {
    "name": "ipython",
    "version": 3
   },
   "file_extension": ".py",
   "mimetype": "text/x-python",
   "name": "python",
   "nbconvert_exporter": "python",
   "pygments_lexer": "ipython3",
   "version": "3.7.13"
  }
 },
 "nbformat": 4,
 "nbformat_minor": 5
}
